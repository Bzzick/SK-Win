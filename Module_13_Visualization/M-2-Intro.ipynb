{
 "cells": [
  {
   "cell_type": "markdown",
   "metadata": {},
   "source": [
    "# Основные типы визуализации\n",
    "\n",
    "\n",
    "        линейный график;\n",
    "        гистограмма;\n",
    "        диаграмма рассеяния;\n",
    "        коробчатая диаграмма;\n",
    "        круговая диаграмма;\n",
    "        столбчатая диаграмма;\n",
    "        тепловая карта.\n",
    "\n",
    "\n"
   ]
  }
 ],
 "metadata": {
  "language_info": {
   "name": "python"
  },
  "orig_nbformat": 4
 },
 "nbformat": 4,
 "nbformat_minor": 2
}
