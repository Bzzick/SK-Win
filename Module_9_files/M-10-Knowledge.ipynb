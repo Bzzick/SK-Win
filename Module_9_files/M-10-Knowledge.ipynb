{
 "cells": [
  {
   "cell_type": "code",
   "execution_count": 12,
   "source": [
    "import numpy as np\r\n",
    "print (np.iinfo(np.int16))"
   ],
   "outputs": [
    {
     "output_type": "stream",
     "name": "stdout",
     "text": [
      "Machine parameters for int16\n",
      "---------------------------------------------------------------\n",
      "min = -32768\n",
      "max = 32767\n",
      "---------------------------------------------------------------\n",
      "\n"
     ]
    }
   ],
   "metadata": {}
  },
  {
   "cell_type": "markdown",
   "source": [
    "# 10.6"
   ],
   "metadata": {}
  },
  {
   "cell_type": "code",
   "execution_count": null,
   "source": [
    "import numpy as np\r\n",
    "\r\n",
    "def get_chess(a):\r\n",
    "    arr = np.zeros((a,a))\r\n",
    "    \r\n",
    "    arr[1::2, ::2] = 1\r\n",
    "    arr[::2, 1::2] = 1\r\n",
    "    return arr\r\n",
    "get_chess(5)\r\n",
    "# array([[0.]])\r\n",
    "#get_chess(4)"
   ],
   "outputs": [],
   "metadata": {}
  },
  {
   "cell_type": "markdown",
   "source": [
    "# 10.7"
   ],
   "metadata": {}
  },
  {
   "cell_type": "code",
   "execution_count": null,
   "source": [
    "import numpy as np\r\n",
    "def shuffle_seed(array):\r\n",
    "   seed = np.random.randint(2**32)\r\n",
    "   np.random.seed(seed)\r\n",
    "   result = np.random.permutation(array)\r\n",
    "   return result, seed"
   ],
   "outputs": [],
   "metadata": {}
  },
  {
   "cell_type": "markdown",
   "source": [
    "# 10.8 \r\n"
   ],
   "metadata": {}
  },
  {
   "cell_type": "code",
   "execution_count": 14,
   "source": [
    "vec1 = np.array([1,2,3])\r\n",
    "vec2 = np.array([4,5,6])\r\n",
    "vec3 = np.array([7, 8, 9])\r\n",
    "\r\n",
    "import numpy as np\r\n",
    "def min_max_dist(*vectors):\r\n",
    "   dists = list()\r\n",
    "   for i in range(len(vectors)):\r\n",
    "       for j in range(i+1, len(vectors)):\r\n",
    "           dists.append(np.linalg.norm(vectors[i] - vectors[j]))\r\n",
    "   return min(dists), max(dists)\r\n",
    "\r\n",
    "min_max_dist(vec1,vec2,vec3)"
   ],
   "outputs": [
    {
     "output_type": "execute_result",
     "data": {
      "text/plain": [
       "(5.196152422706632, 10.392304845413264)"
      ]
     },
     "metadata": {},
     "execution_count": 14
    }
   ],
   "metadata": {}
  },
  {
   "cell_type": "markdown",
   "source": [
    "# 10.9"
   ],
   "metadata": {}
  },
  {
   "cell_type": "code",
   "execution_count": 20,
   "source": [
    "vec1 = np.array([2, 1])\r\n",
    "vec2 = np.array([-1, 2])\r\n",
    "vec3 = np.array([3,4])\r\n",
    "\r\n",
    "import numpy as np\r\n",
    "def any_normal(*vectors):\r\n",
    "   for i in range(len(vectors)):\r\n",
    "       for j in range(i+1, len(vectors)):\r\n",
    "           if np.dot(vectors[i], vectors[j]) == 0:\r\n",
    "               return True\r\n",
    "   return False\r\n",
    "\r\n",
    "any_normal(vec1,vec2,vec3)\r\n",
    "\r\n"
   ],
   "outputs": [
    {
     "output_type": "execute_result",
     "data": {
      "text/plain": [
       "True"
      ]
     },
     "metadata": {},
     "execution_count": 20
    }
   ],
   "metadata": {}
  },
  {
   "cell_type": "markdown",
   "source": [
    "# 10.10"
   ],
   "metadata": {}
  },
  {
   "cell_type": "code",
   "execution_count": 23,
   "source": [
    "\r\n",
    "import numpy as np\r\n",
    "def get_loto(num):\r\n",
    "   loto = np.random.randint(1,101, size=(num,  5, 5))\r\n",
    "   return loto\r\n",
    "\r\n",
    "get_loto(3)"
   ],
   "outputs": [
    {
     "output_type": "execute_result",
     "data": {
      "text/plain": [
       "array([[[ 93,  40,  73,  48,  63],\n",
       "        [ 90,  60,  20,   2,  63],\n",
       "        [ 42,  64,  37,  13,  58],\n",
       "        [ 60,  29,  43,  62,  99],\n",
       "        [ 66,  63,  97,  37,  15]],\n",
       "\n",
       "       [[ 71,  91,  28,  69,  22],\n",
       "        [ 56,  58,   5,   5,  40],\n",
       "        [ 26,  67,  39,  88,  30],\n",
       "        [ 63,  90,  89,  49,  99],\n",
       "        [ 87,  45,  23,  81,   6]],\n",
       "\n",
       "       [[ 73,  46,  34,  67,  89],\n",
       "        [ 88, 100,  73,  82,  28],\n",
       "        [ 47,  42,  57,  94,  94],\n",
       "        [ 50,  52,  75,  16,  53],\n",
       "        [  1,  93,  67,  66,  22]]])"
      ]
     },
     "metadata": {},
     "execution_count": 23
    }
   ],
   "metadata": {}
  },
  {
   "cell_type": "markdown",
   "source": [
    "# 10.11"
   ],
   "metadata": {}
  },
  {
   "cell_type": "code",
   "execution_count": 25,
   "source": [
    "import numpy as np\r\n",
    "def get_unique_loto(num):\r\n",
    "   sample = np.arange(1, 101)\r\n",
    "   res = list()\r\n",
    "   for i in range(num):\r\n",
    "       res.append(np.random.choice(sample,\r\n",
    "           replace=False, size=(5, 5)))\r\n",
    "   res = np.array(res)\r\n",
    "   return res\r\n",
    "\r\n",
    "get_unique_loto(3)"
   ],
   "outputs": [
    {
     "output_type": "execute_result",
     "data": {
      "text/plain": [
       "array([[[ 15,  77,  94,  20,  54],\n",
       "        [ 34,  89,  67,  42,  56],\n",
       "        [ 97,  59,  64,  96,  74],\n",
       "        [ 79,  92,  33,  69,   7],\n",
       "        [ 62,  55,  49,   1,  93]],\n",
       "\n",
       "       [[ 78,  62,   3,  83,  37],\n",
       "        [ 50,  91,  89,  88, 100],\n",
       "        [ 79,  13,  18,  70,  72],\n",
       "        [ 25,  61,  38,  22,  56],\n",
       "        [ 46,  94,  11,  75,  99]],\n",
       "\n",
       "       [[ 98,  18,  49,  94,  48],\n",
       "        [ 44,  10,  67,  61,  89],\n",
       "        [ 86,   3,  82,  70,  93],\n",
       "        [ 88,   6,  21,  57,   9],\n",
       "        [ 15,  19,  58,  69,  12]]])"
      ]
     },
     "metadata": {},
     "execution_count": 25
    }
   ],
   "metadata": {}
  }
 ],
 "metadata": {
  "orig_nbformat": 4,
  "language_info": {
   "name": "python",
   "version": "3.8.11",
   "mimetype": "text/x-python",
   "codemirror_mode": {
    "name": "ipython",
    "version": 3
   },
   "pygments_lexer": "ipython3",
   "nbconvert_exporter": "python",
   "file_extension": ".py"
  },
  "kernelspec": {
   "name": "python3",
   "display_name": "Python 3.8.11 64-bit ('sf': conda)"
  },
  "interpreter": {
   "hash": "e9a177a0c324a8ac07c3da104ff7b4f97daafc3bcb6cd5e0f6befe30b279e758"
  }
 },
 "nbformat": 4,
 "nbformat_minor": 2
}