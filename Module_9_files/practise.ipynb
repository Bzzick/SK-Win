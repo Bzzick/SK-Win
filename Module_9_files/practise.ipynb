{
 "cells": [
  {
   "cell_type": "code",
   "execution_count": null,
   "source": [
    "from collections import Counter\r\n",
    "c = Counter()"
   ],
   "outputs": [],
   "metadata": {}
  },
  {
   "cell_type": "code",
   "execution_count": null,
   "source": [
    "c['red'] += 1\r\n",
    "print(c)"
   ],
   "outputs": [],
   "metadata": {}
  },
  {
   "cell_type": "code",
   "execution_count": null,
   "source": [
    "cars = ['red', 'blue', 'black', 'black', 'black', 'red', 'blue', 'red', 'white']"
   ],
   "outputs": [],
   "metadata": {}
  },
  {
   "cell_type": "code",
   "execution_count": null,
   "source": [
    "for car in cars:\r\n",
    "    c[car]+=1\r\n",
    "print(c)"
   ],
   "outputs": [],
   "metadata": {}
  },
  {
   "cell_type": "code",
   "execution_count": null,
   "source": [
    "c = Counter(cars)\r\n",
    "print(c)"
   ],
   "outputs": [],
   "metadata": {}
  },
  {
   "cell_type": "code",
   "execution_count": null,
   "source": [
    "print(c['black'])"
   ],
   "outputs": [],
   "metadata": {}
  },
  {
   "cell_type": "code",
   "execution_count": null,
   "source": [
    "print(c['purple'])"
   ],
   "outputs": [],
   "metadata": {}
  },
  {
   "cell_type": "code",
   "execution_count": null,
   "source": [
    "print(sum(c.values()))"
   ],
   "outputs": [],
   "metadata": {}
  },
  {
   "cell_type": "code",
   "execution_count": null,
   "source": [
    "cars_moscow = ['black', 'black', 'white', 'black', 'black', 'white', 'yellow', 'yellow', 'yellow']\r\n",
    "cars_spb = ['red', 'black', 'black', 'white', 'white', 'yellow', 'yellow', 'red', 'white']"
   ],
   "outputs": [],
   "metadata": {}
  },
  {
   "cell_type": "code",
   "execution_count": null,
   "source": [
    "counter_moscow = Counter(cars_moscow)\r\n",
    "counter_spb = Counter(cars_spb)\r\n",
    " \r\n",
    "print(counter_moscow)\r\n",
    "print(counter_spb)"
   ],
   "outputs": [],
   "metadata": {}
  },
  {
   "cell_type": "code",
   "execution_count": null,
   "source": [
    "print(counter_moscow + counter_spb)"
   ],
   "outputs": [],
   "metadata": {}
  },
  {
   "cell_type": "code",
   "execution_count": null,
   "source": [
    "print(counter_moscow)\r\n",
    "print(counter_spb)\r\n",
    "# Counter({'black': 4, 'yellow': 3, 'white': 2})\r\n",
    "# Counter({'white': 3, 'red': 2, 'black': 2, 'yellow': 2})\r\n",
    " \r\n",
    "counter_moscow.subtract(counter_spb)\r\n",
    "print(counter_moscow)\r\n",
    "# Counter({'black': 2, 'yellow': 1, 'white': -1, 'red': -2})"
   ],
   "outputs": [],
   "metadata": {}
  },
  {
   "cell_type": "code",
   "execution_count": null,
   "source": [
    "# Пересоздаём счётчики, потому что объект counter_moscow поменял свои значения\r\n",
    "# после функции subtract.\r\n",
    "counter_moscow = Counter(cars_moscow)\r\n",
    "counter_spb = Counter(cars_spb)\r\n",
    " \r\n",
    "print(counter_moscow - counter_spb)\r\n",
    "# Counter({'black': 2, 'yellow': 1})"
   ],
   "outputs": [],
   "metadata": {}
  },
  {
   "cell_type": "code",
   "execution_count": null,
   "source": [
    "print(*counter_moscow.elements())\r\n",
    "# black black black black white white yellow yellow yellow\r\n",
    "print(list(counter_moscow))\r\n",
    "# ['black', 'white', 'yellow']\r\n",
    "print(dict(counter_moscow))\r\n",
    "# {'black': 4, 'white': 2, 'yellow': 3}\r\n",
    "print(counter_moscow.most_common())\r\n",
    "# [('black', 4), ('yellow', 3), ('white', 2)]\r\n",
    "print(counter_moscow.most_common(2))\r\n",
    "# [('black', 4), ('yellow', 3)]"
   ],
   "outputs": [],
   "metadata": {}
  },
  {
   "cell_type": "code",
   "execution_count": null,
   "source": [
    "counter_moscow.clear()\r\n",
    "print(counter_moscow)\r\n",
    "# Наконец, функция clear() позволяет полностью обнулить счётчик:\r\n",
    "# Counter()"
   ],
   "outputs": [],
   "metadata": {}
  },
  {
   "cell_type": "markdown",
   "source": [
    "# Task 2.3\r\n",
    "## from hidden import clients\r\n",
    "## from collections import Counter\r\n",
    "## c=Counter(clients)\r\n",
    "## print(c.most_common(1))\r\n",
    "# Task 2.4\r\n",
    "## print (c[953421102])\r\n",
    "# Task 2.5\r\n",
    "## print  (len(c.keys()))"
   ],
   "metadata": {}
  },
  {
   "cell_type": "markdown",
   "source": [
    "# DEFAULTDICT"
   ],
   "metadata": {}
  },
  {
   "cell_type": "code",
   "execution_count": null,
   "source": [
    "students = [('Ivanov',1),('Smirnov',4),('Petrov',3),('Kuznetsova',1),\r\n",
    "            ('Nikitina',2),('Markov',3),('Pavlov',2)]\r\n",
    "groups = dict()\r\n",
    "\r\n",
    "for student, group in students:\r\n",
    "   # Проверяем, есть ли уже эта группа в словаре\r\n",
    "   if group not in groups:\r\n",
    "       # Если группы ещё нет в словаре, создаём для неё пустой список\r\n",
    "       groups[group] = list()\r\n",
    "   groups[group].append(student)\r\n",
    " \r\n",
    "print(groups)"
   ],
   "outputs": [],
   "metadata": {}
  },
  {
   "cell_type": "code",
   "execution_count": null,
   "source": [
    "students = [('Ivanov',1),('Smirnov',4),('Petrov',3),('Kuznetsova',1),\r\n",
    "            ('Nikitina',2),('Markov',3),('Pavlov',2)]"
   ],
   "outputs": [],
   "metadata": {}
  },
  {
   "cell_type": "code",
   "execution_count": 39,
   "source": [
    "from collections import defaultdict\r\n",
    "groups = defaultdict(list)\r\n",
    "#Обратите внимание, что в скобках мы передаём именно указатель на класс объекта (например list; также можно было бы применить set, dict) без круглых скобок, которые используются для создания нового экземпляра объекта\r\n"
   ],
   "outputs": [],
   "metadata": {}
  },
  {
   "cell_type": "code",
   "execution_count": 40,
   "source": [
    "for student, group in students:\r\n",
    "   groups[group].append(student)\r\n",
    " \r\n",
    "print(groups)\r\n",
    "\r\n"
   ],
   "outputs": [
    {
     "output_type": "stream",
     "name": "stdout",
     "text": [
      "defaultdict(<class 'list'>, {1: ['Ivanov', 'Kuznetsova'], 4: ['Smirnov'], 3: ['Petrov', 'Markov'], 2: ['Nikitina', 'Pavlov']})\n"
     ]
    }
   ],
   "metadata": {}
  },
  {
   "cell_type": "code",
   "execution_count": 42,
   "source": [
    "print(groups[3])\r\n",
    "print(groups[2021])"
   ],
   "outputs": [
    {
     "output_type": "stream",
     "name": "stdout",
     "text": [
      "['Petrov', 'Markov']\n",
      "[]\n"
     ]
    }
   ],
   "metadata": {}
  },
  {
   "cell_type": "code",
   "execution_count": 43,
   "source": [
    "dict_object = dict()\r\n",
    "defaultdict_object = defaultdict()\r\n",
    " \r\n",
    "print(type(dict_object))\r\n",
    "# <class 'dict'>\r\n",
    "print(type(defaultdict_object))\r\n",
    "# <class 'collections.defaultdict'>"
   ],
   "outputs": [
    {
     "output_type": "stream",
     "name": "stdout",
     "text": [
      "<class 'dict'>\n",
      "<class 'collections.defaultdict'>\n"
     ]
    }
   ],
   "metadata": {}
  },
  {
   "cell_type": "markdown",
   "source": [
    "# Task 2.8\r\n",
    "## print(mystery[None])"
   ],
   "metadata": {}
  }
 ],
 "metadata": {
  "orig_nbformat": 4,
  "language_info": {
   "name": "python",
   "version": "3.8.11",
   "mimetype": "text/x-python",
   "codemirror_mode": {
    "name": "ipython",
    "version": 3
   },
   "pygments_lexer": "ipython3",
   "nbconvert_exporter": "python",
   "file_extension": ".py"
  },
  "kernelspec": {
   "name": "python3",
   "display_name": "Python 3.8.11 64-bit ('sf': conda)"
  },
  "interpreter": {
   "hash": "e9a177a0c324a8ac07c3da104ff7b4f97daafc3bcb6cd5e0f6befe30b279e758"
  }
 },
 "nbformat": 4,
 "nbformat_minor": 2
}