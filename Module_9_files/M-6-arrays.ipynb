{
 "cells": [
  {
   "cell_type": "code",
   "execution_count": null,
   "source": [
    "import numpy as np\r\n",
    "\r\n",
    "arr= np.array([1,5,2,9,10])\r\n",
    "arr\r\n",
    "\r\n",
    "print(type(arr))\r\n"
   ],
   "outputs": [],
   "metadata": {}
  },
  {
   "cell_type": "code",
   "execution_count": null,
   "source": [
    "# Перечислить список из списков можно\r\n",
    "# было и в одну строку, но на нескольких\r\n",
    "# строках получается нагляднее\r\n",
    "nd_arr = np.array([\r\n",
    "               [12, 45, 78],\r\n",
    "               [34, 56, 13],\r\n",
    "               [12, 98, 76]\r\n",
    "               ])\r\n",
    "nd_arr"
   ],
   "outputs": [],
   "metadata": {}
  },
  {
   "cell_type": "code",
   "execution_count": null,
   "source": [
    "arr = np.array([1,5,2,9,10])\r\n",
    "arr.dtype"
   ],
   "outputs": [],
   "metadata": {}
  },
  {
   "cell_type": "code",
   "execution_count": null,
   "source": [
    "arr = np.array([1,5,2,9,10], dtype=np.int8)\r\n",
    "arr"
   ],
   "outputs": [],
   "metadata": {}
  },
  {
   "cell_type": "code",
   "execution_count": null,
   "source": [
    "arr[2] = 2000\r\n",
    "arr"
   ],
   "outputs": [],
   "metadata": {}
  },
  {
   "cell_type": "code",
   "execution_count": null,
   "source": [
    "arr = np.array([1,5,2,9,10], dtype=np.int8)\r\n",
    "nd_arr = np.array([\r\n",
    "               [12, 45, 78],\r\n",
    "               [34, 56, 13],\r\n",
    "               [12, 98, 76]\r\n",
    "               ], dtype=np.int16)"
   ],
   "outputs": [],
   "metadata": {}
  },
  {
   "cell_type": "code",
   "execution_count": null,
   "source": [
    "#Узнать размерность массива можно с помощью .ndim:\r\n",
    "arr.ndim\r\n",
    "nd_arr.ndim\r\n"
   ],
   "outputs": [],
   "metadata": {}
  },
  {
   "cell_type": "code",
   "execution_count": null,
   "source": [
    "#Узнать общее число элементов в массиве можно с помощью .size:\r\n",
    "arr.size\r\n",
    "nd_arr.size"
   ],
   "outputs": [],
   "metadata": {}
  },
  {
   "cell_type": "code",
   "execution_count": null,
   "source": [
    "#Форма или структура массива хранится в атрибуте .shape:\r\n",
    "arr.shape\r\n",
    "nd_arr.shape"
   ],
   "outputs": [],
   "metadata": {}
  },
  {
   "cell_type": "code",
   "execution_count": null,
   "source": [
    "#Наконец, узнать, сколько «весит» каждый элемент массива в байтах позволяет .itemsize:\r\n",
    "arr.itemsize\r\n",
    "nd_arr.itemsize"
   ],
   "outputs": [],
   "metadata": {}
  },
  {
   "cell_type": "code",
   "execution_count": null,
   "source": [
    "#Массив из нулей создаётся функцией np.zeros. Она принимает аргументы shape (обязательный) — форма массива (одно число или кортеж) и dtype (необязательный) — тип данных, который будет храниться в массиве.\r\n",
    "zeros_1d = np.zeros(5)\r\n",
    "zeros_1d"
   ],
   "outputs": [],
   "metadata": {}
  },
  {
   "cell_type": "code",
   "execution_count": null,
   "source": [
    "zeros_3d = np.zeros((5,4,3), dtype=np.float32)\r\n",
    "print(zeros_3d.shape)"
   ],
   "outputs": [],
   "metadata": {}
  },
  {
   "cell_type": "code",
   "execution_count": null,
   "source": [
    "#Ещё одной удобной функцией для создания одномерных массивов является arange. Она аналогична встроенной функции range, но обладает рядом особенностей. Вот её сигнатура: arange([start,] stop[, step,], dtype=None).\r\n",
    "np.arange(2.5, 5, 0.5)\r\n"
   ],
   "outputs": [],
   "metadata": {}
  },
  {
   "cell_type": "code",
   "execution_count": null,
   "source": [
    "#Linespace: np.linspace(start, stop, num=50, endpoint=True, retstep=False, dtype=None)\r\n",
    "arr = np.linspace(1, 2, 10)\r\n",
    "arr"
   ],
   "outputs": [],
   "metadata": {}
  },
  {
   "cell_type": "code",
   "execution_count": 5,
   "source": [
    "arr = np.linspace(1, 2, 10, endpoint=False)\r\n",
    "arr\r\n",
    "arr, step = np.linspace(1, 2, 10, endpoint=True, retstep=True)\r\n",
    "print(step)\r\n",
    "arr, step = np.linspace(1, 2, 10, endpoint=False, retstep=True)\r\n",
    "print(step)"
   ],
   "outputs": [
    {
     "output_type": "stream",
     "name": "stdout",
     "text": [
      "0.1111111111111111\n",
      "0.1\n"
     ]
    }
   ],
   "metadata": {}
  },
  {
   "cell_type": "code",
   "execution_count": null,
   "source": [
    "arr = np.linspace(-6,21, num=60, endpoint=True, retstep=True)\r\n",
    "print(step)\r\n"
   ],
   "outputs": [],
   "metadata": {}
  },
  {
   "cell_type": "code",
   "execution_count": 6,
   "source": [
    "import numpy as np\r\n",
    "arr, step  = np.linspace(-6, 21, 60, endpoint = True, retstep=True)\r\n",
    "print(step)"
   ],
   "outputs": [
    {
     "output_type": "stream",
     "name": "stdout",
     "text": [
      "0.4576271186440678\n"
     ]
    }
   ],
   "metadata": {}
  },
  {
   "cell_type": "code",
   "execution_count": 7,
   "source": [
    "arr, step  = np.linspace(-6, 21, 60, endpoint = False, retstep=True)\r\n",
    "print(step)\r\n"
   ],
   "outputs": [
    {
     "output_type": "stream",
     "name": "stdout",
     "text": [
      "0.45\n"
     ]
    }
   ],
   "metadata": {}
  }
 ],
 "metadata": {
  "orig_nbformat": 4,
  "language_info": {
   "name": "python",
   "version": "3.8.11",
   "mimetype": "text/x-python",
   "codemirror_mode": {
    "name": "ipython",
    "version": 3
   },
   "pygments_lexer": "ipython3",
   "nbconvert_exporter": "python",
   "file_extension": ".py"
  },
  "kernelspec": {
   "name": "python3",
   "display_name": "Python 3.8.11 64-bit (system)"
  },
  "interpreter": {
   "hash": "e9a177a0c324a8ac07c3da104ff7b4f97daafc3bcb6cd5e0f6befe30b279e758"
  }
 },
 "nbformat": 4,
 "nbformat_minor": 2
}