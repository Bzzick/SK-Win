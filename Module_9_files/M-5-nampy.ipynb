{
 "cells": [
  {
   "cell_type": "code",
   "execution_count": 1,
   "source": [
    "import numpy as np\r\n",
    "a = np.int8(25)\r\n",
    "print(a)\r\n",
    "print(type(a))\r\n",
    "# 25"
   ],
   "outputs": [
    {
     "output_type": "stream",
     "name": "stdout",
     "text": [
      "25\n",
      "<class 'numpy.int8'>\n"
     ]
    }
   ],
   "metadata": {}
  },
  {
   "cell_type": "code",
   "execution_count": 3,
   "source": [
    "print (np.iinfo(np.int16))"
   ],
   "outputs": [
    {
     "output_type": "stream",
     "name": "stdout",
     "text": [
      "Machine parameters for int16\n",
      "---------------------------------------------------------------\n",
      "min = -32768\n",
      "max = 32767\n",
      "---------------------------------------------------------------\n",
      "\n"
     ]
    }
   ],
   "metadata": {}
  },
  {
   "cell_type": "code",
   "execution_count": 6,
   "source": [
    "\r\n",
    "np.iinfo(np.int64)"
   ],
   "outputs": [
    {
     "output_type": "execute_result",
     "data": {
      "text/plain": [
       "iinfo(min=-9223372036854775808, max=9223372036854775807, dtype=int64)"
      ]
     },
     "metadata": {},
     "execution_count": 6
    }
   ],
   "metadata": {}
  },
  {
   "cell_type": "code",
   "execution_count": 7,
   "source": [
    "b = np.uint8(124)\r\n",
    "print(b)\r\n",
    "# 124\r\n",
    "print(type(b))\r\n",
    "# <class 'numpy.uint8'>\r\n",
    "np.iinfo(b)"
   ],
   "outputs": [
    {
     "output_type": "stream",
     "name": "stdout",
     "text": [
      "124\n",
      "<class 'numpy.uint8'>\n"
     ]
    },
    {
     "output_type": "execute_result",
     "data": {
      "text/plain": [
       "iinfo(min=0, max=255, dtype=uint8)"
      ]
     },
     "metadata": {},
     "execution_count": 7
    }
   ],
   "metadata": {}
  },
  {
   "cell_type": "code",
   "execution_count": 8,
   "source": [
    "a = np.int32(1000)\r\n",
    "print(a)\r\n",
    "# 1000\r\n",
    "print(type(a))\r\n",
    "# <class 'numpy.int32'>\r\n",
    "a = 2056\r\n",
    "print(a)\r\n",
    "# 2056\r\n",
    "print(type(a))\r\n",
    "# <class 'int'>"
   ],
   "outputs": [
    {
     "output_type": "stream",
     "name": "stdout",
     "text": [
      "1000\n",
      "<class 'numpy.int32'>\n",
      "2056\n",
      "<class 'int'>\n"
     ]
    }
   ],
   "metadata": {}
  },
  {
   "cell_type": "code",
   "execution_count": 9,
   "source": [
    "a = np.int32(1000)\r\n",
    "b = np.int8(25)\r\n",
    "c = a + b\r\n",
    "print(c)\r\n",
    "# 1025\r\n",
    "print(type(c))\r\n",
    "# <class 'numpy.int32'>"
   ],
   "outputs": [
    {
     "output_type": "stream",
     "name": "stdout",
     "text": [
      "1025\n",
      "<class 'numpy.int32'>\n"
     ]
    }
   ],
   "metadata": {}
  },
  {
   "cell_type": "code",
   "execution_count": 11,
   "source": [
    "np.finfo(np.float16)\r\n",
    "# finfo(resolution=0.001, min=-6.55040e+04, max=6.55040e+04, dtype=float16)\r\n",
    "np.finfo(np.float32)\r\n",
    "# finfo(resolution=1e-06, min=-3.4028235e+38, max=3.4028235e+38, dtype=float32)\r\n",
    "np.finfo(np.float64)\r\n",
    "# finfo(resolution=1e-15, min=-1.7976931348623157e+308, max=1.7976931348623157e+308, dtype=float64)\r\n",
    "#np.finfo(np.float128)\r\n",
    "# finfo(resolution=1e-18, min=-1.189731495357231765e+4932, max=1.189731495357231765e+4932, dtype=float128)"
   ],
   "outputs": [
    {
     "output_type": "execute_result",
     "data": {
      "text/plain": [
       "finfo(resolution=1e-15, min=-1.7976931348623157e+308, max=1.7976931348623157e+308, dtype=float64)"
      ]
     },
     "metadata": {},
     "execution_count": 11
    }
   ],
   "metadata": {}
  },
  {
   "cell_type": "code",
   "execution_count": 13,
   "source": [
    "print(*sorted(map(str, set(np.sctypeDict.values()))), sep='\\n')"
   ],
   "outputs": [
    {
     "output_type": "stream",
     "name": "stdout",
     "text": [
      "<class 'numpy.bool_'>\n",
      "<class 'numpy.bytes_'>\n",
      "<class 'numpy.clongdouble'>\n",
      "<class 'numpy.complex128'>\n",
      "<class 'numpy.complex64'>\n",
      "<class 'numpy.datetime64'>\n",
      "<class 'numpy.float16'>\n",
      "<class 'numpy.float32'>\n",
      "<class 'numpy.float64'>\n",
      "<class 'numpy.int16'>\n",
      "<class 'numpy.int32'>\n",
      "<class 'numpy.int64'>\n",
      "<class 'numpy.int8'>\n",
      "<class 'numpy.intc'>\n",
      "<class 'numpy.longdouble'>\n",
      "<class 'numpy.object_'>\n",
      "<class 'numpy.str_'>\n",
      "<class 'numpy.timedelta64'>\n",
      "<class 'numpy.uint16'>\n",
      "<class 'numpy.uint32'>\n",
      "<class 'numpy.uint64'>\n",
      "<class 'numpy.uint8'>\n",
      "<class 'numpy.uintc'>\n",
      "<class 'numpy.void'>\n"
     ]
    }
   ],
   "metadata": {}
  },
  {
   "cell_type": "code",
   "execution_count": 21,
   "source": [
    "print(np.uint8(-456))"
   ],
   "outputs": [
    {
     "output_type": "stream",
     "name": "stdout",
     "text": [
      "56\n"
     ]
    }
   ],
   "metadata": {}
  }
 ],
 "metadata": {
  "orig_nbformat": 4,
  "language_info": {
   "name": "python",
   "version": "3.8.11",
   "mimetype": "text/x-python",
   "codemirror_mode": {
    "name": "ipython",
    "version": 3
   },
   "pygments_lexer": "ipython3",
   "nbconvert_exporter": "python",
   "file_extension": ".py"
  },
  "kernelspec": {
   "name": "python3",
   "display_name": "Python 3.8.11 64-bit ('sf': conda)"
  },
  "interpreter": {
   "hash": "e9a177a0c324a8ac07c3da104ff7b4f97daafc3bcb6cd5e0f6befe30b279e758"
  }
 },
 "nbformat": 4,
 "nbformat_minor": 2
}