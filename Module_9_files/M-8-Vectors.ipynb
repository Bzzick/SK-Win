{
 "cells": [
  {
   "cell_type": "code",
   "execution_count": 1,
   "source": [
    "import numpy as np"
   ],
   "outputs": [],
   "metadata": {}
  },
  {
   "cell_type": "code",
   "execution_count": 2,
   "source": [
    "vec1 = np.array([2, 4, 7, 2.5])\r\n",
    "vec2 = np.array([12, 6, 3.6, 13])\r\n",
    "vec1 + vec2"
   ],
   "outputs": [
    {
     "output_type": "execute_result",
     "data": {
      "text/plain": [
       "array([14. , 10. , 10.6, 15.5])"
      ]
     },
     "metadata": {},
     "execution_count": 2
    }
   ],
   "metadata": {}
  },
  {
   "cell_type": "code",
   "execution_count": 3,
   "source": [
    "list1 = [2, 4, 7, 2.5]\r\n",
    "list2 = [12, 6, 3.6, 13]\r\n",
    "list1 + list2"
   ],
   "outputs": [
    {
     "output_type": "execute_result",
     "data": {
      "text/plain": [
       "[2, 4, 7, 2.5, 12, 6, 3.6, 13]"
      ]
     },
     "metadata": {},
     "execution_count": 3
    }
   ],
   "metadata": {}
  },
  {
   "cell_type": "code",
   "execution_count": 4,
   "source": [
    "vec1 = np.array([2, 4, 7, 2.5])\r\n",
    "vec2 = np.array([12, 6, 3.6, 13])\r\n",
    "vec1 * vec2\r\n",
    "# array([24. , 24. , 25.2, 32.5])"
   ],
   "outputs": [
    {
     "output_type": "execute_result",
     "data": {
      "text/plain": [
       "array([24. , 24. , 25.2, 32.5])"
      ]
     },
     "metadata": {},
     "execution_count": 4
    }
   ],
   "metadata": {}
  },
  {
   "cell_type": "code",
   "execution_count": 5,
   "source": [
    "vec = np.arange(5)\r\n",
    "vec * 10\r\n",
    "# array([ 0, 10, 20, 30, 40])\r\n",
    "vec ** 2\r\n",
    "# array([ 0,  1,  4,  9, 16])"
   ],
   "outputs": [
    {
     "output_type": "execute_result",
     "data": {
      "text/plain": [
       "array([ 0,  1,  4,  9, 16], dtype=int32)"
      ]
     },
     "metadata": {},
     "execution_count": 5
    }
   ],
   "metadata": {}
  },
  {
   "cell_type": "code",
   "execution_count": 6,
   "source": [
    "vec1 = np.array([2, 4, 7, 2.5])\r\n",
    "vec2 = np.array([12, 6, 3.6, 13])\r\n",
    " \r\n",
    "vec1 > vec2\r\n",
    "# array([False, False,  True, False])"
   ],
   "outputs": [
    {
     "output_type": "execute_result",
     "data": {
      "text/plain": [
       "array([False, False,  True, False])"
      ]
     },
     "metadata": {},
     "execution_count": 6
    }
   ],
   "metadata": {}
  },
  {
   "cell_type": "code",
   "execution_count": 7,
   "source": [
    "vec = np.array([14,15,9,26,53,5,89])\r\n",
    "vec <= 26\r\n",
    "# array([ True,  True,  True,  True, False,  True, False])"
   ],
   "outputs": [
    {
     "output_type": "execute_result",
     "data": {
      "text/plain": [
       "array([ True,  True,  True,  True, False,  True, False])"
      ]
     },
     "metadata": {},
     "execution_count": 7
    }
   ],
   "metadata": {}
  },
  {
   "cell_type": "markdown",
   "source": [
    "# Продвинутые операции с векторами"
   ],
   "metadata": {}
  },
  {
   "cell_type": "code",
   "execution_count": 9,
   "source": [
    "vec = np.array([3, 4])\r\n",
    "length = np.sqrt(np.sum(vec ** 2))\r\n",
    "print(length)"
   ],
   "outputs": [
    {
     "output_type": "stream",
     "name": "stdout",
     "text": [
      "5.0\n"
     ]
    }
   ],
   "metadata": {}
  },
  {
   "cell_type": "code",
   "execution_count": 10,
   "source": [
    "length = np.linalg.norm(vec)\r\n",
    "print(length)"
   ],
   "outputs": [
    {
     "output_type": "stream",
     "name": "stdout",
     "text": [
      "5.0\n"
     ]
    }
   ],
   "metadata": {}
  },
  {
   "cell_type": "markdown",
   "source": [
    "## По сути, расстояние между векторами — это длина такого вектора, который является разностью этих векторов. В самом деле, при вычитании двух векторов вычитаются их соответствующие координаты."
   ],
   "metadata": {}
  },
  {
   "cell_type": "code",
   "execution_count": 11,
   "source": [
    "vec1 = np.array([0, 3, 5])\r\n",
    "vec2 = np.array([12, 4, 7])\r\n",
    "distance = np.sqrt(np.sum((vec1 - vec2) ** 2))\r\n",
    "distance"
   ],
   "outputs": [
    {
     "output_type": "execute_result",
     "data": {
      "text/plain": [
       "12.206555615733702"
      ]
     },
     "metadata": {},
     "execution_count": 11
    }
   ],
   "metadata": {}
  },
  {
   "cell_type": "code",
   "execution_count": 12,
   "source": [
    "vec1 = np.array([0, 3, 5])\r\n",
    "vec2 = np.array([12, 4, 7])\r\n",
    "distance = np.linalg.norm(vec1 - vec2)\r\n",
    "distance\r\n",
    "# 12.206555615733702"
   ],
   "outputs": [
    {
     "output_type": "execute_result",
     "data": {
      "text/plain": [
       "12.206555615733702"
      ]
     },
     "metadata": {},
     "execution_count": 12
    }
   ],
   "metadata": {}
  },
  {
   "cell_type": "code",
   "execution_count": 13,
   "source": [
    "#скалярным произведением двух векторов называют сумму произведений их соответствующих координат. Вот формула для скалярного произведения векторов X и Y из n координат:\r\n",
    "vec1 = np.arange(1, 6)\r\n",
    "vec2 = np.linspace(10, 20, 5)\r\n",
    "scalar_product = np.sum(vec1 * vec2)\r\n",
    "scalar_product\r\n",
    "# 250.0"
   ],
   "outputs": [
    {
     "output_type": "execute_result",
     "data": {
      "text/plain": [
       "250.0"
      ]
     },
     "metadata": {},
     "execution_count": 13
    }
   ],
   "metadata": {}
  },
  {
   "cell_type": "code",
   "execution_count": 14,
   "source": [
    "scalar_product = np.dot(vec1, vec2)\r\n",
    "scalar_product\r\n",
    "# 250.0"
   ],
   "outputs": [
    {
     "output_type": "execute_result",
     "data": {
      "text/plain": [
       "250.0"
      ]
     },
     "metadata": {},
     "execution_count": 14
    }
   ],
   "metadata": {}
  },
  {
   "cell_type": "markdown",
   "source": [
    "## Task 8.4"
   ],
   "metadata": {}
  },
  {
   "cell_type": "code",
   "execution_count": 18,
   "source": [
    "import numpy as np\r\n",
    "a = np.array([23, 34, 27])\r\n",
    "b = np.array([-54, 1,  46])\r\n",
    "c = np.array([46, 68, 54])\r\n",
    "\r\n",
    "print (np.linalg.norm(a)+np.linalg.norm(b) == np.linalg.norm(a+b))\r\n",
    "print (np.linalg.norm(a)+np.linalg.norm(c) == np.linalg.norm(a+c))\r\n",
    "print (np.linalg.norm(c)+np.linalg.norm(b) == np.linalg.norm(c+b))"
   ],
   "outputs": [
    {
     "output_type": "stream",
     "name": "stdout",
     "text": [
      "False\n",
      "True\n",
      "False\n"
     ]
    }
   ],
   "metadata": {}
  },
  {
   "cell_type": "code",
   "execution_count": 20,
   "source": [
    "#8.5\r\n",
    "print ( np.sum(a * b))\r\n",
    "print (np.sum(a * c))\r\n",
    "print ( np.sum(c * b))"
   ],
   "outputs": [
    {
     "output_type": "stream",
     "name": "stdout",
     "text": [
      "34\n",
      "4828\n",
      "68\n"
     ]
    }
   ],
   "metadata": {}
  },
  {
   "cell_type": "code",
   "execution_count": 22,
   "source": [
    "# Функции np.min и np.max позволяют находить максимальное и минимальное значение в векторе. Их можно записывать как в виде np.min(<vector>), так и в виде <vector>.min():\r\n",
    "vec = np.array([2,7,18,28,18,1,8,4])\r\n",
    "vec.min()\r\n",
    "# 1\r\n",
    "np.max(vec)\r\n",
    "# 28\r\n",
    "vec.mean()\r\n",
    "# 10.75"
   ],
   "outputs": [
    {
     "output_type": "execute_result",
     "data": {
      "text/plain": [
       "10.75"
      ]
     },
     "metadata": {},
     "execution_count": 22
    }
   ],
   "metadata": {}
  },
  {
   "cell_type": "code",
   "execution_count": null,
   "source": [
    "#8.7 - 8.10\r\n",
    "from hidden import mystery\r\n",
    "# Пишите здесь команды, который помогут\r\n",
    "# найти ответы на вопросы\r\n",
    "import numpy as np\r\n",
    "print(mystery.min())\r\n",
    "print(mystery.mean())\r\n",
    "print(np.median(mystery))\r\n",
    "print(np.std(mystery))"
   ],
   "outputs": [],
   "metadata": {}
  }
 ],
 "metadata": {
  "orig_nbformat": 4,
  "language_info": {
   "name": "python",
   "version": "3.8.11",
   "mimetype": "text/x-python",
   "codemirror_mode": {
    "name": "ipython",
    "version": 3
   },
   "pygments_lexer": "ipython3",
   "nbconvert_exporter": "python",
   "file_extension": ".py"
  },
  "kernelspec": {
   "name": "python3",
   "display_name": "Python 3.8.11 64-bit (system)"
  },
  "interpreter": {
   "hash": "e9a177a0c324a8ac07c3da104ff7b4f97daafc3bcb6cd5e0f6befe30b279e758"
  }
 },
 "nbformat": 4,
 "nbformat_minor": 2
}