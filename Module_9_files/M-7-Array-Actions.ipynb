{
 "cells": [
  {
   "cell_type": "code",
   "execution_count": 1,
   "source": [
    "import numpy as np"
   ],
   "outputs": [],
   "metadata": {}
  },
  {
   "cell_type": "code",
   "execution_count": 2,
   "source": [
    "arr = np.arange(8)\r\n",
    "arr\r\n",
    "# array([0, 1, 2, 3, 4, 5, 6, 7])"
   ],
   "outputs": [
    {
     "output_type": "execute_result",
     "data": {
      "text/plain": [
       "array([0, 1, 2, 3, 4, 5, 6, 7])"
      ]
     },
     "metadata": {},
     "execution_count": 2
    }
   ],
   "metadata": {}
  },
  {
   "cell_type": "code",
   "execution_count": 3,
   "source": [
    "arr.shape = (2, 4)\r\n",
    "arr\r\n",
    "# array([[0, 1, 2, 3],\r\n",
    "#        [4, 5, 6, 7]])"
   ],
   "outputs": [
    {
     "output_type": "execute_result",
     "data": {
      "text/plain": [
       "array([[0, 1, 2, 3],\n",
       "       [4, 5, 6, 7]])"
      ]
     },
     "metadata": {},
     "execution_count": 3
    }
   ],
   "metadata": {}
  },
  {
   "cell_type": "code",
   "execution_count": 4,
   "source": [
    "arr = np.arange(8)\r\n",
    "arr_new = arr.reshape((2, 4))\r\n",
    "arr_new\r\n",
    "# array([[0, 1, 2, 3],\r\n",
    "#       [4, 5, 6, 7]])"
   ],
   "outputs": [
    {
     "output_type": "execute_result",
     "data": {
      "text/plain": [
       "array([[0, 1, 2, 3],\n",
       "       [4, 5, 6, 7]])"
      ]
     },
     "metadata": {},
     "execution_count": 4
    }
   ],
   "metadata": {}
  },
  {
   "cell_type": "code",
   "execution_count": 5,
   "source": [
    "arr = np.arange(8)\r\n",
    "arr_new = arr.reshape((2, 4), order='F')\r\n",
    "arr_new\r\n",
    "# array([[0, 2, 4, 6],\r\n",
    "#       [1, 3, 5, 7]])"
   ],
   "outputs": [
    {
     "output_type": "execute_result",
     "data": {
      "text/plain": [
       "array([[0, 2, 4, 6],\n",
       "       [1, 3, 5, 7]])"
      ]
     },
     "metadata": {},
     "execution_count": 5
    }
   ],
   "metadata": {}
  },
  {
   "cell_type": "code",
   "execution_count": 7,
   "source": [
    "arr = np.arange(8)\r\n",
    "arr.shape = (2, 4)\r\n",
    "arr\r\n",
    "arr_trans = arr.transpose()\r\n",
    "arr_trans"
   ],
   "outputs": [
    {
     "output_type": "execute_result",
     "data": {
      "text/plain": [
       "array([[0, 4],\n",
       "       [1, 5],\n",
       "       [2, 6],\n",
       "       [3, 7]])"
      ]
     },
     "metadata": {},
     "execution_count": 7
    }
   ],
   "metadata": {}
  },
  {
   "cell_type": "code",
   "execution_count": 10,
   "source": [
    "arr = np.linspace(1, 2, 6)\r\n",
    "arr\r\n",
    "# array([1. , 1.2, 1.4, 1.6, 1.8, 2. ])\r\n",
    "print(arr[2])\r\n",
    "print(arr[::-1])"
   ],
   "outputs": [
    {
     "output_type": "stream",
     "name": "stdout",
     "text": [
      "1.4\n",
      "[2.  1.8 1.6 1.4 1.2 1. ]\n"
     ]
    }
   ],
   "metadata": {}
  },
  {
   "cell_type": "code",
   "execution_count": 11,
   "source": [
    "nd_array =  np.linspace(0, 6, 12, endpoint=False).reshape(3,4)\r\n",
    "nd_array\r\n",
    "# array([[0. , 0.5, 1. , 1.5],\r\n",
    "#        [2. , 2.5, 3. , 3.5],\r\n",
    "#        [4. , 4.5, 5. , 5.5]])"
   ],
   "outputs": [
    {
     "output_type": "execute_result",
     "data": {
      "text/plain": [
       "array([[0. , 0.5, 1. , 1.5],\n",
       "       [2. , 2.5, 3. , 3.5],\n",
       "       [4. , 4.5, 5. , 5.5]])"
      ]
     },
     "metadata": {},
     "execution_count": 11
    }
   ],
   "metadata": {}
  },
  {
   "cell_type": "code",
   "execution_count": 17,
   "source": [
    "nd_array[1][2]\r\n",
    "nd_array[1, 2]\r\n",
    "nd_array[:2, 2]\r\n",
    "#Чтобы получить все значения из какой-то оси, можно оставить на её месте двоеточие. Например, из всех строк получим срез с третьего по четвёртый столбцы:\r\n",
    "nd_array[:, 2:4]\r\n",
    "nd_array[:2]"
   ],
   "outputs": [
    {
     "output_type": "execute_result",
     "data": {
      "text/plain": [
       "array([[1. , 1.5],\n",
       "       [3. , 3.5],\n",
       "       [5. , 5.5]])"
      ]
     },
     "metadata": {},
     "execution_count": 17
    }
   ],
   "metadata": {}
  },
  {
   "cell_type": "markdown",
   "source": [
    "# Сортировка одномерных массивов"
   ],
   "metadata": {}
  },
  {
   "cell_type": "code",
   "execution_count": 18,
   "source": [
    "#Способ 1. Функция np.sort(<массив>) возвращает новый отсортированный массив:\r\n",
    "arr = np.array([23,12,45,12,23,4,15,3])\r\n",
    "arr_new = np.sort(arr)\r\n",
    "print(arr)\r\n",
    "# [23 12 45 12 23  4 15  3]\r\n",
    "print(arr_new)\r\n",
    "# [ 3  4 12 12 15 23 23 45]"
   ],
   "outputs": [
    {
     "output_type": "stream",
     "name": "stdout",
     "text": [
      "[23 12 45 12 23  4 15  3]\n",
      "[ 3  4 12 12 15 23 23 45]\n"
     ]
    }
   ],
   "metadata": {}
  },
  {
   "cell_type": "code",
   "execution_count": 19,
   "source": [
    "#Способ 2. Функция <массив>.sort() сортирует исходный массив и возвращает None:\r\n",
    "arr = np.array([23,12,45,12,23,4,15,3])\r\n",
    "print(arr.sort())\r\n",
    "# None\r\n",
    "print(arr)\r\n",
    "# [ 3  4 12 12 15 23 23 45]"
   ],
   "outputs": [
    {
     "output_type": "stream",
     "name": "stdout",
     "text": [
      "None\n",
      "[ 3  4 12 12 15 23 23 45]\n"
     ]
    }
   ],
   "metadata": {}
  },
  {
   "cell_type": "markdown",
   "source": [
    "# Работа с пропущенными данными"
   ],
   "metadata": {}
  },
  {
   "cell_type": "code",
   "execution_count": 20,
   "source": [
    "data = np.array([4, 9, -4, 3])\r\n",
    "roots = np.sqrt(data)\r\n",
    "roots"
   ],
   "outputs": [
    {
     "output_type": "stream",
     "name": "stderr",
     "text": [
      "C:\\Users\\sfedo\\AppData\\Local\\Temp/ipykernel_3616/3084324628.py:2: RuntimeWarning: invalid value encountered in sqrt\n",
      "  roots = np.sqrt(data)\n"
     ]
    },
    {
     "output_type": "execute_result",
     "data": {
      "text/plain": [
       "array([2.        , 3.        ,        nan, 1.73205081])"
      ]
     },
     "metadata": {},
     "execution_count": 20
    }
   ],
   "metadata": {}
  },
  {
   "cell_type": "code",
   "execution_count": 21,
   "source": [
    "#Отличие 1. None является отдельным объектом типа NoneType. np.nan — это отдельный представитель класса float:\r\n",
    "print(type(None))\r\n",
    "# <class 'NoneType'>\r\n",
    "print(type(np.nan))\r\n",
    "# <class 'float'>\r\n",
    "type(np.nan)"
   ],
   "outputs": [
    {
     "output_type": "stream",
     "name": "stdout",
     "text": [
      "<class 'NoneType'>\n",
      "<class 'float'>\n"
     ]
    },
    {
     "output_type": "execute_result",
     "data": {
      "text/plain": [
       "float"
      ]
     },
     "metadata": {},
     "execution_count": 21
    }
   ],
   "metadata": {}
  },
  {
   "cell_type": "code",
   "execution_count": 23,
   "source": [
    "#Отличие 2. None могут быть равны друг другу, а np.nan — нет:\r\n",
    "print(None == None)\r\n",
    "# True\r\n",
    "print(np.nan == np.nan)\r\n",
    "# False\r\n",
    "# Как вы помните, чтобы грамотно сравнить что-либо с None, необходимо использовать оператор is. Это ещё более актуально для np.nan. Однако None даже через is не является эквивалентным np.nan:\r\n",
    "print(None is None)\r\n",
    "# True\r\n",
    "print(np.nan is np.nan)\r\n",
    "# True\r\n",
    "print(np.nan is None)\r\n",
    "# False"
   ],
   "outputs": [
    {
     "output_type": "stream",
     "name": "stdout",
     "text": [
      "True\n",
      "False\n",
      "True\n",
      "True\n",
      "False\n"
     ]
    }
   ],
   "metadata": {}
  },
  {
   "cell_type": "code",
   "execution_count": 24,
   "source": [
    "sum(roots)\r\n",
    "# nan"
   ],
   "outputs": [
    {
     "output_type": "execute_result",
     "data": {
      "text/plain": [
       "nan"
      ]
     },
     "metadata": {},
     "execution_count": 24
    }
   ],
   "metadata": {}
  },
  {
   "cell_type": "code",
   "execution_count": 25,
   "source": [
    "# Можно заполнить пропущенные значения, например, нулями. Для этого с помощью функции np.isnan(<массив>) узнаем, на каких местах в массиве находятся «не числа»:\r\n",
    "np.isnan(roots)\r\n",
    "# array([False, False,  True, False])"
   ],
   "outputs": [
    {
     "output_type": "execute_result",
     "data": {
      "text/plain": [
       "array([False, False,  True, False])"
      ]
     },
     "metadata": {},
     "execution_count": 25
    }
   ],
   "metadata": {}
  },
  {
   "cell_type": "code",
   "execution_count": 29,
   "source": [
    "#Можно подставить этот массив в виде индекса к массиву roots, чтобы получить только np.nan-объекты:\r\n",
    "roots[np.isnan(roots)]\r\n",
    "#array([nan])\r\n",
    "\r\n",
    "#Этим элементам можно присвоить новые значения, например 0:\r\n",
    "roots[np.isnan(roots)] = 0\r\n",
    "roots\r\n",
    "sum(roots)"
   ],
   "outputs": [
    {
     "output_type": "execute_result",
     "data": {
      "text/plain": [
       "6.732050807568877"
      ]
     },
     "metadata": {},
     "execution_count": 29
    }
   ],
   "metadata": {}
  }
 ],
 "metadata": {
  "orig_nbformat": 4,
  "language_info": {
   "name": "python",
   "version": "3.8.11",
   "mimetype": "text/x-python",
   "codemirror_mode": {
    "name": "ipython",
    "version": 3
   },
   "pygments_lexer": "ipython3",
   "nbconvert_exporter": "python",
   "file_extension": ".py"
  },
  "kernelspec": {
   "name": "python3",
   "display_name": "Python 3.8.11 64-bit (system)"
  },
  "interpreter": {
   "hash": "e9a177a0c324a8ac07c3da104ff7b4f97daafc3bcb6cd5e0f6befe30b279e758"
  }
 },
 "nbformat": 4,
 "nbformat_minor": 2
}