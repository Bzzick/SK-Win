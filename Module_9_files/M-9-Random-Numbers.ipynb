{
 "cells": [
  {
   "cell_type": "code",
   "execution_count": 1,
   "source": [
    "import numpy as np"
   ],
   "outputs": [],
   "metadata": {}
  },
  {
   "cell_type": "markdown",
   "source": [
    "# Генерация float"
   ],
   "metadata": {}
  },
  {
   "cell_type": "code",
   "execution_count": 7,
   "source": [
    "# Самой «базовой» функцией в нём можно считать функцию rand. По умолчанию она генерирует число с плавающей точкой между 0 (включительно) и 1 (не включительно)\r\n",
    "np.random.rand() *100\r\n",
    "np.random.rand(5)\r\n",
    "np.random.rand(2, 3)\r\n",
    "np.random.rand(2, 3, 4)"
   ],
   "outputs": [
    {
     "output_type": "execute_result",
     "data": {
      "text/plain": [
       "array([[[0.45114184, 0.73842344, 0.18423904, 0.92043598],\n",
       "        [0.07883308, 0.1874362 , 0.83005093, 0.24034169],\n",
       "        [0.86142086, 0.58712359, 0.15081277, 0.34544473]],\n",
       "\n",
       "       [[0.01854328, 0.19761934, 0.16628791, 0.52543512],\n",
       "        [0.77975922, 0.45281285, 0.05252232, 0.35382071],\n",
       "        [0.2243229 , 0.58092327, 0.51527213, 0.65264874]]])"
      ]
     },
     "metadata": {},
     "execution_count": 7
    }
   ],
   "metadata": {}
  },
  {
   "cell_type": "code",
   "execution_count": 9,
   "source": [
    "shape = (3, 4)\r\n",
    "np.random.rand(*shape)"
   ],
   "outputs": [
    {
     "output_type": "execute_result",
     "data": {
      "text/plain": [
       "array([[0.85592057, 0.12088289, 0.45483535, 0.66928455],\n",
       "       [0.10961809, 0.59772723, 0.84290217, 0.41410219],\n",
       "       [0.95503256, 0.44763826, 0.86398496, 0.57636008]])"
      ]
     },
     "metadata": {},
     "execution_count": 9
    }
   ],
   "metadata": {}
  },
  {
   "cell_type": "code",
   "execution_count": 10,
   "source": [
    "# в NumPy есть и другая функция, генерирующая массивы случайных чисел от 0 до 1, которая принимает в качестве аргумента именно кортеж без распаковки. Она называется sample:\r\n",
    "shape = (2, 3)\r\n",
    "np.random.sample(shape)"
   ],
   "outputs": [
    {
     "output_type": "execute_result",
     "data": {
      "text/plain": [
       "array([[0.83874462, 0.63524226, 0.67520952],\n",
       "       [0.9969974 , 0.31045138, 0.05147825]])"
      ]
     },
     "metadata": {},
     "execution_count": 10
    }
   ],
   "metadata": {}
  },
  {
   "cell_type": "code",
   "execution_count": 18,
   "source": [
    "# функция uniform:\r\n",
    "# uniform(low=0.0, high=1.0, size=None)\r\n",
    "np.random.uniform()\r\n",
    "# Зададим границы диапазона от -30 до 50:\r\n",
    "np.random.uniform(-30, 50)\r\n",
    "# Получим пять чисел в интервале от 0.5 до 0.75:\r\n",
    "np.random.uniform(0.5, 0.75, size=5)\r\n",
    "# Получим массив из двух строк и трёх столбцов из чисел в интервале от -1000 до 500:\r\n",
    "np.random.uniform(-1000, 500, size=(2, 3))\r\n"
   ],
   "outputs": [
    {
     "output_type": "execute_result",
     "data": {
      "text/plain": [
       "array([[-681.18104381,   86.20226367, -748.92612672],\n",
       "       [-282.48610845, -626.57468077, -443.51250349]])"
      ]
     },
     "metadata": {},
     "execution_count": 18
    }
   ],
   "metadata": {}
  },
  {
   "cell_type": "markdown",
   "source": [
    "# Генерация int"
   ],
   "metadata": {}
  },
  {
   "cell_type": "code",
   "execution_count": 19,
   "source": [
    "# Для генерации целых чисел используется функция random.randint:\r\n",
    "# randint(low, high=None, size=None, dtype=int)\r\n",
    "np.random.randint(6, 12, size=(3,3))\r\n"
   ],
   "outputs": [
    {
     "output_type": "execute_result",
     "data": {
      "text/plain": [
       "array([[ 6, 10,  9],\n",
       "       [11,  6,  8],\n",
       "       [ 9, 11,  8]])"
      ]
     },
     "metadata": {},
     "execution_count": 19
    }
   ],
   "metadata": {}
  },
  {
   "cell_type": "markdown",
   "source": [
    "# Генерация выборок"
   ],
   "metadata": {}
  },
  {
   "cell_type": "code",
   "execution_count": 20,
   "source": [
    "# Просто перемешать все числа в массиве позволяет функция random.shuffle.\r\n",
    "arr = np.arange(6)\r\n",
    "print(arr)\r\n",
    "# [0 1 2 3 4 5]\r\n",
    "print(np.random.shuffle(arr))\r\n",
    "# None\r\n",
    "arr\r\n",
    "# array([0, 5, 1, 3, 2, 4])"
   ],
   "outputs": [
    {
     "output_type": "stream",
     "name": "stdout",
     "text": [
      "[0 1 2 3 4 5]\n",
      "None\n"
     ]
    },
    {
     "output_type": "execute_result",
     "data": {
      "text/plain": [
       "array([3, 4, 5, 1, 0, 2])"
      ]
     },
     "metadata": {},
     "execution_count": 20
    }
   ],
   "metadata": {}
  },
  {
   "cell_type": "code",
   "execution_count": 21,
   "source": [
    "# Чтобы получить новый перемешанный массив, а исходный оставить без изменений, можно использовать функцию random.permutation. Она принимает на вход один аргумент — или массив целиком, или одно число:\r\n",
    "playlist = [\"The Beatles\", \"Pink Floyd\", \"ACDC\", \"Deep Purple\"]\r\n",
    "shuffled = np.random.permutation(playlist)\r\n",
    "print(shuffled)\r\n",
    "# ['The Beatles' 'Pink Floyd' 'Deep Purple' 'ACDC']\r\n",
    "print(playlist)\r\n",
    "# ['The Beatles', 'Pink Floyd', 'ACDC', 'Deep Purple']"
   ],
   "outputs": [
    {
     "output_type": "stream",
     "name": "stdout",
     "text": [
      "['ACDC' 'Pink Floyd' 'Deep Purple' 'The Beatles']\n",
      "['The Beatles', 'Pink Floyd', 'ACDC', 'Deep Purple']\n"
     ]
    }
   ],
   "metadata": {}
  },
  {
   "cell_type": "code",
   "execution_count": 22,
   "source": [
    "# Перемешать набор чисел от 0 до n-1 можно с помощью записи np.random.permutation(n), где n — верхняя граница, которая бы использовалась для генерации набора чисел функцией arange.\r\n",
    "np.random.permutation(10)"
   ],
   "outputs": [
    {
     "output_type": "execute_result",
     "data": {
      "text/plain": [
       "array([2, 8, 4, 9, 0, 3, 1, 7, 5, 6])"
      ]
     },
     "metadata": {},
     "execution_count": 22
    }
   ],
   "metadata": {}
  },
  {
   "cell_type": "code",
   "execution_count": 25,
   "source": [
    "# Чтобы получить случайный набор объектов из массива, используется функция random.choice:\r\n",
    "# choice(a, size=None, replace=True)\r\n",
    "#\r\n",
    "#        a — массив или число для генерации arange(a);\r\n",
    "#        size — желаемая форма массива (число для получения одномерного массива, кортеж — для многомерного; если параметр не задан, возвращается один объект);\r\n",
    "#        replace — параметр, задающий, могут ли элементы повторяться (по умолчанию могут).\r\n",
    "\r\n",
    "workers = ['Ivan', 'Nikita', 'Maria', 'John', 'Kate']\r\n",
    " \r\n",
    "choice = np.random.choice(workers, size=2, replace=False)\r\n",
    "print(choice)"
   ],
   "outputs": [
    {
     "output_type": "stream",
     "name": "stdout",
     "text": [
      "['Nikita' 'John']\n"
     ]
    }
   ],
   "metadata": {}
  },
  {
   "cell_type": "markdown",
   "source": [
    "# Seed генератора псевдослучайных чисел"
   ],
   "metadata": {}
  },
  {
   "cell_type": "code",
   "execution_count": 28,
   "source": [
    "# Самостоятельно задать seed в NumPy можно с помощью функции np.random.seed(<np.uint32>). Число в скобках должно быть в пределах от 0 до 2**32 - 1 (=4294967295)\r\n",
    "np.random.seed(23)\r\n",
    "np.random.randint(10, size=(3,4))"
   ],
   "outputs": [
    {
     "output_type": "execute_result",
     "data": {
      "text/plain": [
       "array([[3, 6, 8, 9],\n",
       "       [6, 8, 7, 9],\n",
       "       [3, 6, 1, 2]])"
      ]
     },
     "metadata": {},
     "execution_count": 28
    }
   ],
   "metadata": {}
  },
  {
   "cell_type": "code",
   "execution_count": 30,
   "source": [
    "np.random.seed(100)\r\n",
    "print(np.random.randint(10, size=3))\r\n",
    "# [8 8 3]\r\n",
    "print(np.random.randint(10, size=3))\r\n",
    "# [7 7 0]\r\n",
    "print(np.random.randint(10, size=3))\r\n",
    "# [4 2 5]"
   ],
   "outputs": [
    {
     "output_type": "stream",
     "name": "stdout",
     "text": [
      "[8 8 3]\n",
      "[7 7 0]\n",
      "[4 2 5]\n"
     ]
    }
   ],
   "metadata": {}
  }
 ],
 "metadata": {
  "orig_nbformat": 4,
  "language_info": {
   "name": "python",
   "version": "3.8.11",
   "mimetype": "text/x-python",
   "codemirror_mode": {
    "name": "ipython",
    "version": 3
   },
   "pygments_lexer": "ipython3",
   "nbconvert_exporter": "python",
   "file_extension": ".py"
  },
  "kernelspec": {
   "name": "python3",
   "display_name": "Python 3.8.11 64-bit (system)"
  },
  "interpreter": {
   "hash": "e9a177a0c324a8ac07c3da104ff7b4f97daafc3bcb6cd5e0f6befe30b279e758"
  }
 },
 "nbformat": 4,
 "nbformat_minor": 2
}