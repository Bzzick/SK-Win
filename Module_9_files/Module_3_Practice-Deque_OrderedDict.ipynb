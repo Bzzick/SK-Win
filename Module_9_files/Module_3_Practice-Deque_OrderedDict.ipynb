{
 "cells": [
  {
   "cell_type": "code",
   "execution_count": 3,
   "source": [
    "# Напоминаем способ создания словаря через список кортежей\r\n",
    "# (ключ, значение)\r\n",
    "data = [('Ivan', 19),('Mark', 25),('Andrey', 23),('Maria', 20)]\r\n",
    "client_ages = dict(data)\r\n",
    "print(client_ages)"
   ],
   "outputs": [
    {
     "output_type": "stream",
     "name": "stdout",
     "text": [
      "{'Ivan': 19, 'Mark': 25, 'Andrey': 23, 'Maria': 20}\n"
     ]
    }
   ],
   "metadata": {}
  },
  {
   "cell_type": "code",
   "execution_count": 4,
   "source": [
    "from collections import OrderedDict\r\n",
    "data = [('Ivan', 19),('Mark', 25),('Andrey', 23),('Maria', 20)]\r\n",
    "ordered_client_ages = OrderedDict(data)\r\n",
    "print(ordered_client_ages)"
   ],
   "outputs": [
    {
     "output_type": "stream",
     "name": "stdout",
     "text": [
      "OrderedDict([('Ivan', 19), ('Mark', 25), ('Andrey', 23), ('Maria', 20)])\n"
     ]
    }
   ],
   "metadata": {}
  },
  {
   "cell_type": "code",
   "execution_count": 7,
   "source": [
    "data = [('Ivan', 19),('Mark', 25),('Andrey', 23),('Maria', 20)]\r\n",
    "# Сортируем по второму значению из кортежа, то есть по возрасту\r\n",
    "ordered_client_ages = OrderedDict(sorted(data, key=lambda x: x[1]))\r\n",
    "print(ordered_client_ages)"
   ],
   "outputs": [
    {
     "output_type": "stream",
     "name": "stdout",
     "text": [
      "OrderedDict([('Ivan', 19), ('Maria', 20), ('Andrey', 23), ('Mark', 25)])\n"
     ]
    }
   ],
   "metadata": {}
  },
  {
   "cell_type": "code",
   "execution_count": 8,
   "source": [
    "ordered_client_ages['Nikita'] = 18\r\n",
    "print(ordered_client_ages)"
   ],
   "outputs": [
    {
     "output_type": "stream",
     "name": "stdout",
     "text": [
      "OrderedDict([('Ivan', 19), ('Maria', 20), ('Andrey', 23), ('Mark', 25), ('Nikita', 18)])\n"
     ]
    }
   ],
   "metadata": {}
  },
  {
   "cell_type": "code",
   "execution_count": 9,
   "source": [
    "del ordered_client_ages['Andrey']\r\n",
    "print(ordered_client_ages)\r\n",
    "# OrderedDict([('Ivan', 19), ('Mark', 25), ('Maria', 20), ('Nikita', 18)])\r\n",
    "ordered_client_ages['Andrey'] = 23\r\n",
    "print(ordered_client_ages)\r\n",
    "# OrderedDict([('Ivan', 19), ('Mark', 25), ('Maria', 20), ('Nikita', 18), ('Andrey', 23)])"
   ],
   "outputs": [
    {
     "output_type": "stream",
     "name": "stdout",
     "text": [
      "OrderedDict([('Ivan', 19), ('Maria', 20), ('Mark', 25), ('Nikita', 18)])\n",
      "OrderedDict([('Ivan', 19), ('Maria', 20), ('Mark', 25), ('Nikita', 18), ('Andrey', 23)])\n"
     ]
    }
   ],
   "metadata": {}
  },
  {
   "cell_type": "code",
   "execution_count": 10,
   "source": [
    "import sys\r\n",
    "print(sys.version)"
   ],
   "outputs": [
    {
     "output_type": "stream",
     "name": "stdout",
     "text": [
      "3.8.11 (default, Aug  6 2021, 09:57:55) [MSC v.1916 64 bit (AMD64)]\n"
     ]
    }
   ],
   "metadata": {}
  },
  {
   "cell_type": "markdown",
   "source": [
    "# Deque"
   ],
   "metadata": {}
  },
  {
   "cell_type": "code",
   "execution_count": 11,
   "source": [
    "from collections import deque\r\n",
    "dq = deque()\r\n",
    "print(dq)\r\n",
    "# deque([])"
   ],
   "outputs": [
    {
     "output_type": "stream",
     "name": "stdout",
     "text": [
      "deque([])\n"
     ]
    }
   ],
   "metadata": {}
  },
  {
   "cell_type": "markdown",
   "source": [
    "У deque есть четыре ключевые функции:\r\n",
    "\r\n",
    "        append (добавить элемент в конец дека);\r\n",
    "        appendleft (добавить элемент в начало дека);\r\n",
    "        pop (удалить и вернуть элемент из конца дека);\r\n",
    "        popleft (удалить и вернуть элемент из начала дека).\r\n"
   ],
   "metadata": {}
  },
  {
   "cell_type": "code",
   "execution_count": 13,
   "source": [
    "clients = deque()\r\n",
    "clients.append('Ivanov')\r\n",
    "clients.append('Petrov')\r\n",
    "clients.append('Smirnov')\r\n",
    "clients.append('Tikhonova')\r\n",
    "print(clients)\r\n",
    "print(clients[2])"
   ],
   "outputs": [
    {
     "output_type": "stream",
     "name": "stdout",
     "text": [
      "deque(['Ivanov', 'Petrov', 'Smirnov', 'Tikhonova'])\n",
      "Smirnov\n"
     ]
    }
   ],
   "metadata": {}
  },
  {
   "cell_type": "code",
   "execution_count": 14,
   "source": [
    "first_client = clients.popleft()\r\n",
    "second_client = clients.popleft()\r\n",
    " \r\n",
    "print(\"First client:\", first_client)\r\n",
    "print(\"Second client:\", second_client)\r\n",
    "print(clients)"
   ],
   "outputs": [
    {
     "output_type": "stream",
     "name": "stdout",
     "text": [
      "First client: Ivanov\n",
      "Second client: Petrov\n",
      "deque(['Smirnov', 'Tikhonova'])\n"
     ]
    }
   ],
   "metadata": {}
  },
  {
   "cell_type": "code",
   "execution_count": 15,
   "source": [
    "clients.appendleft('Vip-client')\r\n",
    " \r\n",
    "print(clients)\r\n",
    "# deque(['Vip-client', 'Smirnov', 'Tikhonova'])"
   ],
   "outputs": [
    {
     "output_type": "stream",
     "name": "stdout",
     "text": [
      "deque(['Vip-client', 'Smirnov', 'Tikhonova'])\n"
     ]
    }
   ],
   "metadata": {}
  },
  {
   "cell_type": "code",
   "execution_count": 16,
   "source": [
    "# В скобках передаём список при создании deque,\r\n",
    "# чтобы сразу добавить все его элементы в очередь\r\n",
    "shop = deque([1, 2, 3, 4, 5])\r\n",
    "print(shop)\r\n",
    "# deque([1, 2, 3, 4, 5])\r\n",
    "shop.extend([11, 12, 13, 14, 15, 16, 17])\r\n",
    "print(shop)\r\n",
    "# deque([1, 2, 3, 4, 5, 11, 12, 13, 14, 15, 16, 17])"
   ],
   "outputs": [
    {
     "output_type": "stream",
     "name": "stdout",
     "text": [
      "deque([1, 2, 3, 4, 5])\n",
      "deque([1, 2, 3, 4, 5, 11, 12, 13, 14, 15, 16, 17])\n"
     ]
    }
   ],
   "metadata": {}
  },
  {
   "cell_type": "code",
   "execution_count": 17,
   "source": [
    "shop = deque([1, 2, 3, 4, 5])\r\n",
    "print(shop)\r\n",
    "# deque([1, 2, 3, 4, 5])\r\n",
    "shop.extendleft([11, 12, 13, 14, 15, 16, 17])\r\n",
    "print(shop)\r\n",
    "# deque([17, 16, 15, 14, 13, 12, 11, 1, 2, 3, 4, 5])"
   ],
   "outputs": [
    {
     "output_type": "stream",
     "name": "stdout",
     "text": [
      "deque([1, 2, 3, 4, 5])\n",
      "deque([17, 16, 15, 14, 13, 12, 11, 1, 2, 3, 4, 5])\n"
     ]
    }
   ],
   "metadata": {}
  },
  {
   "cell_type": "code",
   "execution_count": 18,
   "source": [
    "limited = deque(maxlen=3)\r\n",
    "print(limited)\r\n",
    "# deque([], maxlen=3)\r\n",
    " \r\n",
    "limited_from_list = deque([1,3,4,5,6,7], maxlen=3)\r\n",
    "print(limited_from_list)\r\n",
    "# deque([5, 6, 7], maxlen=3)"
   ],
   "outputs": [
    {
     "output_type": "stream",
     "name": "stdout",
     "text": [
      "deque([], maxlen=3)\n",
      "deque([5, 6, 7], maxlen=3)\n"
     ]
    }
   ],
   "metadata": {}
  },
  {
   "cell_type": "code",
   "execution_count": 19,
   "source": [
    "limited.extend([1,2,3])\r\n",
    "print(limited)\r\n",
    "# deque([1, 2, 3], maxlen=3)\r\n",
    " \r\n",
    "print(limited.append(8))\r\n",
    "# None\r\n",
    "print(limited)\r\n",
    "# deque([2, 3, 8], maxlen=3)"
   ],
   "outputs": [
    {
     "output_type": "stream",
     "name": "stdout",
     "text": [
      "deque([1, 2, 3], maxlen=3)\n",
      "None\n",
      "deque([2, 3, 8], maxlen=3)\n"
     ]
    }
   ],
   "metadata": {}
  },
  {
   "cell_type": "code",
   "execution_count": 22,
   "source": [
    "temps = [20.6, 19.4, 19.0, 19.0, 22.1,\r\n",
    "        22.5, 22.8, 24.1, 25.6, 27.0,\r\n",
    "        27.0, 25.6, 26.8, 27.3, 22.5,\r\n",
    "        25.4, 24.4, 23.7, 23.6, 22.6,\r\n",
    "        20.4, 17.9, 17.3, 17.3, 18.1,\r\n",
    "        20.1, 22.2, 19.8, 21.3, 21.3,\r\n",
    "        21.9]\r\n",
    "\r\n",
    "days = deque(maxlen=7)\r\n",
    " \r\n",
    "for temp in temps:\r\n",
    "   # Добавляем температуру в очередь\r\n",
    "   days.append(temp)\r\n",
    "   # Если длина очереди оказалась равной максимальной длине очереди (7),\r\n",
    "   # печатаем среднюю температуру за последние 7 дней\r\n",
    "   if len(days) == days.maxlen:\r\n",
    "       print(round(sum(days) / len(days), 2), end='; ')\r\n",
    "# Напечатаем пустую строку, чтобы завершить действие параметра\r\n",
    "# end. Иначе следующая строка окажется напечатанной на предыдущей\r\n",
    "print(\"\")"
   ],
   "outputs": [
    {
     "output_type": "stream",
     "name": "stdout",
     "text": [
      "20.77; 21.27; 22.16; 23.3; 24.44; 24.94; 25.56; 26.2; 25.97; 25.94; 25.57; 25.1; 24.81; 24.21; 23.23; 22.57; 21.41; 20.4; 19.6; 19.1; 19.04; 18.96; 19.44; 20.01; 20.67; \n"
     ]
    }
   ],
   "metadata": {}
  },
  {
   "cell_type": "code",
   "execution_count": 23,
   "source": [
    "dq = deque([1,2,3,4,5])\r\n",
    "print(dq)\r\n",
    "# deque([1, 2, 3, 4, 5])\r\n",
    " \r\n",
    "dq.reverse()\r\n",
    "print(dq)\r\n",
    "# deque([5, 4, 3, 2, 1])"
   ],
   "outputs": [
    {
     "output_type": "stream",
     "name": "stdout",
     "text": [
      "deque([1, 2, 3, 4, 5])\n",
      "deque([5, 4, 3, 2, 1])\n"
     ]
    }
   ],
   "metadata": {}
  },
  {
   "cell_type": "code",
   "execution_count": 27,
   "source": [
    "dq = deque([1,2,3,4,5])\r\n",
    "print(dq)\r\n",
    "# deque([1, 2, 3, 4, 5])\r\n",
    " \r\n",
    "dq.rotate(2)\r\n",
    "print(dq)\r\n",
    "# deque([4, 5, 1, 2, 3])\r\n"
   ],
   "outputs": [
    {
     "output_type": "stream",
     "name": "stdout",
     "text": [
      "deque([1, 2, 3, 4, 5])\n",
      "deque([4, 5, 1, 2, 3])\n"
     ]
    }
   ],
   "metadata": {}
  },
  {
   "cell_type": "code",
   "execution_count": 28,
   "source": [
    "dq = deque([1,2,3,4,5])\r\n",
    "print(dq)\r\n",
    "# deque([1, 2, 3, 4, 5])\r\n",
    " \r\n",
    "# Отрицательное значение аргумента переносит\r\n",
    "# n элементов из начала в конец\r\n",
    "dq.rotate(-2)\r\n",
    "print(dq)\r\n",
    "# deque([3, 4, 5, 1, 2])"
   ],
   "outputs": [
    {
     "output_type": "stream",
     "name": "stdout",
     "text": [
      "deque([1, 2, 3, 4, 5])\n",
      "deque([3, 4, 5, 1, 2])\n"
     ]
    }
   ],
   "metadata": {}
  },
  {
   "cell_type": "code",
   "execution_count": 29,
   "source": [
    "dq = [1,2,4,2,3,1,5,4,4,4,4,4,3]\r\n",
    "print(dq.index(4))\r\n",
    "# 2\r\n",
    "print(dq.count(4))\r\n",
    "# 6"
   ],
   "outputs": [
    {
     "output_type": "stream",
     "name": "stdout",
     "text": [
      "2\n",
      "6\n"
     ]
    }
   ],
   "metadata": {}
  },
  {
   "cell_type": "code",
   "execution_count": 30,
   "source": [
    "dq = deque([1,2,4,2,3,1,5,4,4,4,4,4,3])\r\n",
    "print(dq)\r\n",
    "# deque([1, 2, 4, 2, 3, 1, 5, 4, 4, 4, 4, 4, 3])\r\n",
    "dq.clear()\r\n",
    "print(dq)\r\n",
    "# deque([])"
   ],
   "outputs": [
    {
     "output_type": "stream",
     "name": "stdout",
     "text": [
      "deque([1, 2, 4, 2, 3, 1, 5, 4, 4, 4, 4, 4, 3])\n",
      "deque([])\n"
     ]
    }
   ],
   "metadata": {}
  },
  {
   "cell_type": "markdown",
   "source": [
    "# Task 3.2"
   ],
   "metadata": {}
  },
  {
   "cell_type": "code",
   "execution_count": 31,
   "source": [
    "temps = [('2000', -4.4), ('2001', -2.5), ('2002', -4.4), ('2003', -9.5),\r\n",
    "        ('2004', -8.2), ('2005', -1.6), ('2006', -5.9), ('2007', -2.4),\r\n",
    "        ('2008', -1.7), ('2009', -3.5), ('2010', -12.1), ('2011', -5.8),\r\n",
    "        ('2012', -4.9), ('2013', -6.1), ('2014', -6.9), ('2015', -2.7),\r\n",
    "        ('2016', -11.2), ('2017', -3.9), ('2018', -2.9), ('2019', -6.5),\r\n",
    "        ('2020', 1.5)]\r\n",
    "\r\n",
    "from collections import OrderedDict\r\n",
    "ordered_temps = OrderedDict(sorted(temps, reverse=True, key = lambda x: x[1]))\r\n",
    "print(ordered_temps)"
   ],
   "outputs": [
    {
     "output_type": "stream",
     "name": "stdout",
     "text": [
      "OrderedDict([('2020', 1.5), ('2005', -1.6), ('2008', -1.7), ('2007', -2.4), ('2001', -2.5), ('2015', -2.7), ('2018', -2.9), ('2009', -3.5), ('2017', -3.9), ('2000', -4.4), ('2002', -4.4), ('2012', -4.9), ('2011', -5.8), ('2006', -5.9), ('2013', -6.1), ('2019', -6.5), ('2014', -6.9), ('2004', -8.2), ('2003', -9.5), ('2016', -11.2), ('2010', -12.1)])\n"
     ]
    }
   ],
   "metadata": {}
  },
  {
   "cell_type": "markdown",
   "source": [
    "[6, 18, 4, 7, 8, 8, 5, 18, 12, 17, 13, 15, 6, 7, 9, 17, 18, 8, 4, 11, 10, 8, 2, 10, 6, 10, 10, 9]"
   ],
   "metadata": {}
  },
  {
   "cell_type": "markdown",
   "source": [
    "\r\n",
    "# Task 3.5-3.7"
   ],
   "metadata": {}
  },
  {
   "cell_type": "code",
   "execution_count": null,
   "source": [
    "#from collections import deque\r\n",
    "#users_dq = deque(users)\r\n",
    "#users_dq.rotate(-5)\r\n",
    "#print(users_dq)\r\n",
    "#last_user = users_dq.pop\r\n",
    "#print(users_dq.pop())\r\n",
    "#print(users_dq[-1])\r\n",
    "#print(users_dq.count(8))"
   ],
   "outputs": [],
   "metadata": {}
  }
 ],
 "metadata": {
  "orig_nbformat": 4,
  "language_info": {
   "name": "python",
   "version": "3.8.11",
   "mimetype": "text/x-python",
   "codemirror_mode": {
    "name": "ipython",
    "version": 3
   },
   "pygments_lexer": "ipython3",
   "nbconvert_exporter": "python",
   "file_extension": ".py"
  },
  "kernelspec": {
   "name": "python3",
   "display_name": "Python 3.8.11 64-bit ('sf': conda)"
  },
  "interpreter": {
   "hash": "e9a177a0c324a8ac07c3da104ff7b4f97daafc3bcb6cd5e0f6befe30b279e758"
  }
 },
 "nbformat": 4,
 "nbformat_minor": 2
}