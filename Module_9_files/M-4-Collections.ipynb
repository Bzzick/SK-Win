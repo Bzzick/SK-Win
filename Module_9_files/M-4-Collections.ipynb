{
 "cells": [
  {
   "cell_type": "code",
   "execution_count": 1,
   "source": [
    "from collections import deque\r\n",
    "def brackets(line):\r\n",
    "   stack = deque()\r\n",
    "   for i in line:\r\n",
    "       if i == '(':\r\n",
    "           stack.append(i)\r\n",
    "       elif i == ')':\r\n",
    "           if len(stack) == 0:\r\n",
    "               return False\r\n",
    "           stack.pop()\r\n",
    "   if len(stack) == 0:\r\n",
    "       return True\r\n",
    "   return False\r\n",
    "\r\n"
   ],
   "outputs": [],
   "metadata": {}
  },
  {
   "cell_type": "code",
   "execution_count": null,
   "source": [
    "from hidden import north, center, south\r\n",
    "# Пишите здесь команды, который помогут\r\n",
    "# найти ответы на вопросы\r\n",
    "north_list = [elem for bill in north for elem in bill]\r\n",
    "south_list = [elem for bill in south for elem in bill]\r\n",
    "center_list = [elem for bill in center for elem in bill]\r\n",
    "\r\n",
    "from collections import Counter\r\n",
    "n=Counter(north_list)\r\n",
    "s=Counter(south_list)\r\n",
    "c=Counter(center_list)\r\n",
    "\r\n",
    "print (n,s,c, sep=\"\\n\")\r\n",
    "print(n.most_common()[-1])\r\n",
    "print (c-n)\r\n",
    "\r\n",
    "print(c - (n + s))\r\n",
    "print(n - (s + c))\r\n",
    "print(s - (c + n))\r\n",
    "\r\n",
    "print(len(north_list))\r\n",
    "# 500\r\n",
    "print(len(south_list))\r\n",
    "# 478\r\n",
    "print(len(center_list))\r\n",
    "\r\n",
    "print ((c+n+s).most_common())"
   ],
   "outputs": [],
   "metadata": {}
  },
  {
   "cell_type": "code",
   "execution_count": 5,
   "source": [
    "ratings = [('Old York', 3.3), ('New Age', 4.6), ('Old Gold', 3.3), ('General Foods', 4.8),\r\n",
    "           ('Belissimo', 4.5), ('CakeAndCoffee', 4.2), ('CakeOClock', 4.2), ('CakeTime', 4.1),\r\n",
    "           ('WokToWork', 4.9), ('WokAndRice', 4.9), ('Old Wine Cellar', 3.3), ('Nice Cakes', 3.9)]\r\n",
    "\r\n",
    "# Отсортируйте список ratings по убыванию рейтинга. Для кафе\r\n",
    "# с одинаковым рейтингом отсортируйте кортежи по названию.\r\n",
    "ratings.sort(key=lambda x: (-x[1], x[0]))\r\n",
    "#print(ratings)\r\n",
    "# Сохраните данные с рейтингом в словарь cafes, где ключами являются\r\n",
    "# названия кафе, а значениями - их рейтинг.\r\n",
    "from collections import OrderedDict\r\n",
    "cafes = OrderedDict(ratings)\r\n",
    "print(cafes)"
   ],
   "outputs": [
    {
     "output_type": "stream",
     "name": "stdout",
     "text": [
      "OrderedDict([('WokAndRice', 4.9), ('WokToWork', 4.9), ('General Foods', 4.8), ('New Age', 4.6), ('Belissimo', 4.5), ('CakeAndCoffee', 4.2), ('CakeOClock', 4.2), ('CakeTime', 4.1), ('Nice Cakes', 3.9), ('Old Gold', 3.3), ('Old Wine Cellar', 3.3), ('Old York', 3.3)])\n"
     ]
    }
   ],
   "metadata": {}
  },
  {
   "cell_type": "code",
   "execution_count": 8,
   "source": [
    "tasks = [(36871, 'office', False),\r\n",
    "(40690, 'office', False),\r\n",
    "(35364, 'voltage', False),\r\n",
    "(41667, 'voltage', True),\r\n",
    "(33850, 'office', False)]\r\n",
    "\r\n",
    "from collections import deque, defaultdict\r\n",
    "def task_manager(tasks):\r\n",
    "   servers = defaultdict(deque)\r\n",
    "   for task in tasks:\r\n",
    "       if task[-1]:\r\n",
    "           servers[task[1]].appendleft(task[0])\r\n",
    "       else:\r\n",
    "           servers[task[1]].append(task[0])\r\n",
    "   return servers\r\n",
    "\r\n",
    "print(task_manager(tasks))\r\n"
   ],
   "outputs": [
    {
     "output_type": "stream",
     "name": "stdout",
     "text": [
      "defaultdict(<class 'collections.deque'>, {'office': deque([36871, 40690, 33850]), 'voltage': deque([35364, 41667])})\n"
     ]
    }
   ],
   "metadata": {}
  },
  {
   "cell_type": "code",
   "execution_count": null,
   "source": [
    "\r\n",
    "\r\n",
    "import numpy as np\r\n",
    "\r\n"
   ],
   "outputs": [],
   "metadata": {}
  }
 ],
 "metadata": {
  "orig_nbformat": 4,
  "language_info": {
   "name": "python",
   "version": "3.8.11",
   "mimetype": "text/x-python",
   "codemirror_mode": {
    "name": "ipython",
    "version": 3
   },
   "pygments_lexer": "ipython3",
   "nbconvert_exporter": "python",
   "file_extension": ".py"
  },
  "kernelspec": {
   "name": "python3",
   "display_name": "Python 3.8.11 64-bit ('sf': conda)"
  },
  "interpreter": {
   "hash": "e9a177a0c324a8ac07c3da104ff7b4f97daafc3bcb6cd5e0f6befe30b279e758"
  }
 },
 "nbformat": 4,
 "nbformat_minor": 2
}