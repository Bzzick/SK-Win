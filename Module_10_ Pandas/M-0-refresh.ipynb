{
 "cells": [
  {
   "cell_type": "code",
   "execution_count": 1,
   "source": [
    "simplelist = [19, 242, 14, 152, 142, 1000]\r\n",
    "import numpy as np\r\n",
    "np.mean(simplelist)"
   ],
   "outputs": [
    {
     "output_type": "execute_result",
     "data": {
      "text/plain": [
       "261.5"
      ]
     },
     "metadata": {},
     "execution_count": 1
    }
   ],
   "metadata": {}
  }
 ],
 "metadata": {
  "orig_nbformat": 4,
  "language_info": {
   "name": "python",
   "version": "3.8.11",
   "mimetype": "text/x-python",
   "codemirror_mode": {
    "name": "ipython",
    "version": 3
   },
   "pygments_lexer": "ipython3",
   "nbconvert_exporter": "python",
   "file_extension": ".py"
  },
  "kernelspec": {
   "name": "python3",
   "display_name": "Python 3.8.11 64-bit ('sf': conda)"
  },
  "interpreter": {
   "hash": "e9a177a0c324a8ac07c3da104ff7b4f97daafc3bcb6cd5e0f6befe30b279e758"
  }
 },
 "nbformat": 4,
 "nbformat_minor": 2
}