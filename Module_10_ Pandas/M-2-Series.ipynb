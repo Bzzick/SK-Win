{
 "cells": [
  {
   "cell_type": "markdown",
   "source": [
    "# Series"
   ],
   "metadata": {}
  },
  {
   "cell_type": "markdown",
   "source": [
    "## Создание Series"
   ],
   "metadata": {}
  },
  {
   "cell_type": "code",
   "execution_count": 3,
   "source": [
    "# Способ 1 — из списка с использованием параметров функции pd.Series():\r\n",
    "import pandas as pd\r\n",
    "countries = pd.Series(\r\n",
    "    data = ['Англия', 'Канада', 'США', 'Россия', 'Украина', 'Беларусь', 'Казахстан'],\r\n",
    "    index = ['UK', 'CA', 'US', 'RU', 'UA', 'BY', 'KZ'],\r\n",
    "    name = 'countries'\r\n",
    ")\r\n",
    "display(countries)"
   ],
   "outputs": [
    {
     "output_type": "display_data",
     "data": {
      "text/plain": [
       "UK       Англия\n",
       "CA       Канада\n",
       "US          США\n",
       "RU       Россия\n",
       "UA      Украина\n",
       "BY     Беларусь\n",
       "KZ    Казахстан\n",
       "Name: countries, dtype: object"
      ]
     },
     "metadata": {}
    }
   ],
   "metadata": {}
  },
  {
   "cell_type": "code",
   "execution_count": 4,
   "source": [
    "# Способ 2 — из словаря, в котором ключами являются будущие метки, а значениями — будущие значения Series, при этом использование параметра name также возможно:\r\n",
    "countries = pd.Series({\r\n",
    "    'UK': 'Англия',\r\n",
    "    'CA': 'Канада',\r\n",
    "    'US' : 'США',\r\n",
    "    'RU': 'Россия',\r\n",
    "    'UA': 'Украина',\r\n",
    "    'BY': 'Беларусь',\r\n",
    "    'KZ': 'Казахстан'},\r\n",
    "    name = 'countries'\r\n",
    ")\r\n",
    "display(countries)"
   ],
   "outputs": [
    {
     "output_type": "display_data",
     "data": {
      "text/plain": [
       "UK       Англия\n",
       "CA       Канада\n",
       "US          США\n",
       "RU       Россия\n",
       "UA      Украина\n",
       "BY     Беларусь\n",
       "KZ    Казахстан\n",
       "Name: countries, dtype: object"
      ]
     },
     "metadata": {}
    }
   ],
   "metadata": {}
  },
  {
   "cell_type": "markdown",
   "source": [
    "## Доступ к данным в Series"
   ],
   "metadata": {}
  },
  {
   "cell_type": "code",
   "execution_count": 6,
   "source": [
    "# .loc вызывается с квадратными скобками, в которые передаются метки. В него можно передать как один индекс, так и список, чтобы получилось несколько элементов. \r\n",
    "print(countries.loc['US'])\r\n",
    "# Для того чтобы достать информацию по нескольким индексам, необходимо обернуть интересующие индексы в список:\r\n",
    "print(countries.loc[['US', 'RU', 'UK']])"
   ],
   "outputs": [
    {
     "output_type": "stream",
     "name": "stdout",
     "text": [
      "США\n",
      "US       США\n",
      "RU    Россия\n",
      "UK    Англия\n",
      "Name: countries, dtype: object\n"
     ]
    }
   ],
   "metadata": {}
  },
  {
   "cell_type": "code",
   "execution_count": 7,
   "source": [
    "# .iloc также вызывается с квадратными скобками и принимает на вход порядковые номера элементов Series (нумерация начинаются с 0). В него можно так же передавать как один индекс, так и диапазон чисел. \r\n",
    "print(countries.iloc[6])\r\n",
    "# Получим срез из исходной Series с первого по третий элемент:\r\n",
    "print(countries.iloc[1:4])\r\n"
   ],
   "outputs": [
    {
     "output_type": "stream",
     "name": "stdout",
     "text": [
      "Казахстан\n",
      "CA    Канада\n",
      "US       США\n",
      "RU    Россия\n",
      "Name: countries, dtype: object\n"
     ]
    }
   ],
   "metadata": {}
  },
  {
   "cell_type": "code",
   "execution_count": 27,
   "source": [
    "import pandas as pd\r\n",
    "names=['chlorhexidine', 'cyntomycin', 'afobazol']\r\n",
    "counts=[15, 18, 7]\r\n",
    "\r\n",
    "def create_mediactions(names, counts):\r\n",
    "    medications = pd.Series(\r\n",
    "        data = counts,\r\n",
    "        index = names,\r\n",
    "    )\r\n",
    "    return medications\r\n",
    "medications = create_mediactions(names, counts)\r\n",
    "def get_percent(medications, index):\r\n",
    "    return(medications.loc[index]/sum(medications) * 100)\r\n",
    "print(create_mediactions(names, counts))\r\n",
    "print(get_persent(medications,\"chlorhexidine\"),\"%\")  \r\n",
    "\r\n",
    "if __name__ == '__main__':\r\n",
    "    names=['chlorhexidine', 'cyntomycin', 'afobazol']\r\n",
    "    counts=[15, 18, 7]\r\n",
    "    medications = create_mediactions(names, counts)\r\n",
    "    print(get_percent(medications, \"chlorhexidine\"))"
   ],
   "outputs": [
    {
     "output_type": "stream",
     "name": "stdout",
     "text": [
      "chlorhexidine    15\n",
      "cyntomycin       18\n",
      "afobazol          7\n",
      "dtype: int64\n",
      "37.5 %\n",
      "37.5\n"
     ]
    }
   ],
   "metadata": {}
  }
 ],
 "metadata": {
  "orig_nbformat": 4,
  "language_info": {
   "name": "python",
   "version": "3.8.11",
   "mimetype": "text/x-python",
   "codemirror_mode": {
    "name": "ipython",
    "version": 3
   },
   "pygments_lexer": "ipython3",
   "nbconvert_exporter": "python",
   "file_extension": ".py"
  },
  "kernelspec": {
   "name": "python3",
   "display_name": "Python 3.8.11 64-bit ('sf': conda)"
  },
  "interpreter": {
   "hash": "e9a177a0c324a8ac07c3da104ff7b4f97daafc3bcb6cd5e0f6befe30b279e758"
  }
 },
 "nbformat": 4,
 "nbformat_minor": 2
}